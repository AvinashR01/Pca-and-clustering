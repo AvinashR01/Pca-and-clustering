{
 "cells": [
  {
   "cell_type": "code",
   "execution_count": 1,
   "id": "1aea6fbc",
   "metadata": {
    "_cell_guid": "b1076dfc-b9ad-4769-8c92-a6c4dae69d19",
    "_uuid": "8f2839f25d086af736a60e9eeb907d3b93b6e0e5",
    "execution": {
     "iopub.execute_input": "2022-01-01T13:49:39.292556Z",
     "iopub.status.busy": "2022-01-01T13:49:39.290242Z",
     "iopub.status.idle": "2022-01-01T13:49:39.312614Z",
     "shell.execute_reply": "2022-01-01T13:49:39.313345Z",
     "shell.execute_reply.started": "2022-01-01T13:39:52.650240Z"
    },
    "papermill": {
     "duration": 0.050718,
     "end_time": "2022-01-01T13:49:39.313757",
     "exception": false,
     "start_time": "2022-01-01T13:49:39.263039",
     "status": "completed"
    },
    "tags": []
   },
   "outputs": [],
   "source": [
    "# This Python 3 environment comes with many helpful analytics libraries installed\n",
    "# It is defined by the kaggle/python Docker image: https://github.com/kaggle/docker-python\n",
    "# For example, here's several helpful packages to load\n",
    "\n",
    "import numpy as np # linear algebra\n",
    "import pandas as pd # data processing, CSV file I/O (e.g. pd.read_csv)\n",
    "\n",
    "# Input data files are available in the read-only \"../input/\" directory\n",
    "# For example, running this (by clicking run or pressing Shift+Enter) will list all files under the input directory\n",
    "\n",
    "import os\n",
    "for dirname, _, filenames in os.walk('/kaggle/input'):\n",
    "    for filename in filenames:\n",
    "        print(os.path.join(dirname, filename))\n",
    "\n",
    "# You can write up to 20GB to the current directory (/kaggle/working/) that gets preserved as output when you create a version using \"Save & Run All\" \n",
    "# You can also write temporary files to /kaggle/temp/, but they won't be saved outside of the current session"
   ]
  },
  {
   "cell_type": "code",
   "execution_count": 2,
   "id": "75b72702",
   "metadata": {
    "execution": {
     "iopub.execute_input": "2022-01-01T13:49:39.355440Z",
     "iopub.status.busy": "2022-01-01T13:49:39.354348Z",
     "iopub.status.idle": "2022-01-01T13:49:40.822951Z",
     "shell.execute_reply": "2022-01-01T13:49:40.821939Z",
     "shell.execute_reply.started": "2022-01-01T13:44:51.760255Z"
    },
    "papermill": {
     "duration": 1.489755,
     "end_time": "2022-01-01T13:49:40.823110",
     "exception": false,
     "start_time": "2022-01-01T13:49:39.333355",
     "status": "completed"
    },
    "tags": []
   },
   "outputs": [],
   "source": [
    "import numpy as np\n",
    "import pandas as pd\n",
    "\n",
    "from sklearn.cluster import AgglomerativeClustering\n",
    "from sklearn.cluster import KMeans\n",
    "from scipy.cluster.hierarchy import dendrogram, linkage\n",
    "from sklearn.preprocessing import StandardScaler\n",
    "\n",
    "import seaborn as sns\n",
    "import matplotlib.pyplot as plt"
   ]
  },
  {
   "cell_type": "code",
   "execution_count": 4,
   "id": "fecfc59d",
   "metadata": {
    "execution": {
     "iopub.execute_input": "2022-01-01T13:49:40.866673Z",
     "iopub.status.busy": "2022-01-01T13:49:40.865783Z",
     "iopub.status.idle": "2022-01-01T13:49:40.880101Z",
     "shell.execute_reply": "2022-01-01T13:49:40.880658Z",
     "shell.execute_reply.started": "2022-01-01T13:39:56.513821Z"
    },
    "papermill": {
     "duration": 0.038447,
     "end_time": "2022-01-01T13:49:40.880908",
     "exception": false,
     "start_time": "2022-01-01T13:49:40.842461",
     "status": "completed"
    },
    "tags": []
   },
   "outputs": [],
   "source": [
    "df = pd.read_csv(r'C:\\Users\\chand\\Desktop\\avinash\\wine.csv')"
   ]
  },
  {
   "cell_type": "code",
   "execution_count": 5,
   "id": "189d0b78",
   "metadata": {
    "execution": {
     "iopub.execute_input": "2022-01-01T13:49:40.920983Z",
     "iopub.status.busy": "2022-01-01T13:49:40.920265Z",
     "iopub.status.idle": "2022-01-01T13:49:40.948656Z",
     "shell.execute_reply": "2022-01-01T13:49:40.949214Z",
     "shell.execute_reply.started": "2022-01-01T13:39:57.419814Z"
    },
    "papermill": {
     "duration": 0.049948,
     "end_time": "2022-01-01T13:49:40.949410",
     "exception": false,
     "start_time": "2022-01-01T13:49:40.899462",
     "status": "completed"
    },
    "tags": []
   },
   "outputs": [
    {
     "data": {
      "text/html": [
       "<div>\n",
       "<style scoped>\n",
       "    .dataframe tbody tr th:only-of-type {\n",
       "        vertical-align: middle;\n",
       "    }\n",
       "\n",
       "    .dataframe tbody tr th {\n",
       "        vertical-align: top;\n",
       "    }\n",
       "\n",
       "    .dataframe thead th {\n",
       "        text-align: right;\n",
       "    }\n",
       "</style>\n",
       "<table border=\"1\" class=\"dataframe\">\n",
       "  <thead>\n",
       "    <tr style=\"text-align: right;\">\n",
       "      <th></th>\n",
       "      <th>Type</th>\n",
       "      <th>Alcohol</th>\n",
       "      <th>Malic</th>\n",
       "      <th>Ash</th>\n",
       "      <th>Alcalinity</th>\n",
       "      <th>Magnesium</th>\n",
       "      <th>Phenols</th>\n",
       "      <th>Flavanoids</th>\n",
       "      <th>Nonflavanoids</th>\n",
       "      <th>Proanthocyanins</th>\n",
       "      <th>Color</th>\n",
       "      <th>Hue</th>\n",
       "      <th>Dilution</th>\n",
       "      <th>Proline</th>\n",
       "    </tr>\n",
       "  </thead>\n",
       "  <tbody>\n",
       "    <tr>\n",
       "      <th>0</th>\n",
       "      <td>1</td>\n",
       "      <td>14.23</td>\n",
       "      <td>1.71</td>\n",
       "      <td>2.43</td>\n",
       "      <td>15.6</td>\n",
       "      <td>127</td>\n",
       "      <td>2.80</td>\n",
       "      <td>3.06</td>\n",
       "      <td>0.28</td>\n",
       "      <td>2.29</td>\n",
       "      <td>5.64</td>\n",
       "      <td>1.04</td>\n",
       "      <td>3.92</td>\n",
       "      <td>1065</td>\n",
       "    </tr>\n",
       "    <tr>\n",
       "      <th>1</th>\n",
       "      <td>1</td>\n",
       "      <td>13.20</td>\n",
       "      <td>1.78</td>\n",
       "      <td>2.14</td>\n",
       "      <td>11.2</td>\n",
       "      <td>100</td>\n",
       "      <td>2.65</td>\n",
       "      <td>2.76</td>\n",
       "      <td>0.26</td>\n",
       "      <td>1.28</td>\n",
       "      <td>4.38</td>\n",
       "      <td>1.05</td>\n",
       "      <td>3.40</td>\n",
       "      <td>1050</td>\n",
       "    </tr>\n",
       "    <tr>\n",
       "      <th>2</th>\n",
       "      <td>1</td>\n",
       "      <td>13.16</td>\n",
       "      <td>2.36</td>\n",
       "      <td>2.67</td>\n",
       "      <td>18.6</td>\n",
       "      <td>101</td>\n",
       "      <td>2.80</td>\n",
       "      <td>3.24</td>\n",
       "      <td>0.30</td>\n",
       "      <td>2.81</td>\n",
       "      <td>5.68</td>\n",
       "      <td>1.03</td>\n",
       "      <td>3.17</td>\n",
       "      <td>1185</td>\n",
       "    </tr>\n",
       "    <tr>\n",
       "      <th>3</th>\n",
       "      <td>1</td>\n",
       "      <td>14.37</td>\n",
       "      <td>1.95</td>\n",
       "      <td>2.50</td>\n",
       "      <td>16.8</td>\n",
       "      <td>113</td>\n",
       "      <td>3.85</td>\n",
       "      <td>3.49</td>\n",
       "      <td>0.24</td>\n",
       "      <td>2.18</td>\n",
       "      <td>7.80</td>\n",
       "      <td>0.86</td>\n",
       "      <td>3.45</td>\n",
       "      <td>1480</td>\n",
       "    </tr>\n",
       "    <tr>\n",
       "      <th>4</th>\n",
       "      <td>1</td>\n",
       "      <td>13.24</td>\n",
       "      <td>2.59</td>\n",
       "      <td>2.87</td>\n",
       "      <td>21.0</td>\n",
       "      <td>118</td>\n",
       "      <td>2.80</td>\n",
       "      <td>2.69</td>\n",
       "      <td>0.39</td>\n",
       "      <td>1.82</td>\n",
       "      <td>4.32</td>\n",
       "      <td>1.04</td>\n",
       "      <td>2.93</td>\n",
       "      <td>735</td>\n",
       "    </tr>\n",
       "  </tbody>\n",
       "</table>\n",
       "</div>"
      ],
      "text/plain": [
       "   Type  Alcohol  Malic   Ash  Alcalinity  Magnesium  Phenols  Flavanoids  \\\n",
       "0     1    14.23   1.71  2.43        15.6        127     2.80        3.06   \n",
       "1     1    13.20   1.78  2.14        11.2        100     2.65        2.76   \n",
       "2     1    13.16   2.36  2.67        18.6        101     2.80        3.24   \n",
       "3     1    14.37   1.95  2.50        16.8        113     3.85        3.49   \n",
       "4     1    13.24   2.59  2.87        21.0        118     2.80        2.69   \n",
       "\n",
       "   Nonflavanoids  Proanthocyanins  Color   Hue  Dilution  Proline  \n",
       "0           0.28             2.29   5.64  1.04      3.92     1065  \n",
       "1           0.26             1.28   4.38  1.05      3.40     1050  \n",
       "2           0.30             2.81   5.68  1.03      3.17     1185  \n",
       "3           0.24             2.18   7.80  0.86      3.45     1480  \n",
       "4           0.39             1.82   4.32  1.04      2.93      735  "
      ]
     },
     "execution_count": 5,
     "metadata": {},
     "output_type": "execute_result"
    }
   ],
   "source": [
    "df.head()"
   ]
  },
  {
   "cell_type": "code",
   "execution_count": 6,
   "id": "cd86d598",
   "metadata": {
    "execution": {
     "iopub.execute_input": "2022-01-01T13:49:40.998670Z",
     "iopub.status.busy": "2022-01-01T13:49:40.997987Z",
     "iopub.status.idle": "2022-01-01T13:49:41.046958Z",
     "shell.execute_reply": "2022-01-01T13:49:41.047460Z",
     "shell.execute_reply.started": "2022-01-01T13:39:58.486030Z"
    },
    "papermill": {
     "duration": 0.078796,
     "end_time": "2022-01-01T13:49:41.047657",
     "exception": false,
     "start_time": "2022-01-01T13:49:40.968861",
     "status": "completed"
    },
    "tags": []
   },
   "outputs": [
    {
     "data": {
      "text/html": [
       "<div>\n",
       "<style scoped>\n",
       "    .dataframe tbody tr th:only-of-type {\n",
       "        vertical-align: middle;\n",
       "    }\n",
       "\n",
       "    .dataframe tbody tr th {\n",
       "        vertical-align: top;\n",
       "    }\n",
       "\n",
       "    .dataframe thead th {\n",
       "        text-align: right;\n",
       "    }\n",
       "</style>\n",
       "<table border=\"1\" class=\"dataframe\">\n",
       "  <thead>\n",
       "    <tr style=\"text-align: right;\">\n",
       "      <th></th>\n",
       "      <th>Type</th>\n",
       "      <th>Alcohol</th>\n",
       "      <th>Malic</th>\n",
       "      <th>Ash</th>\n",
       "      <th>Alcalinity</th>\n",
       "      <th>Magnesium</th>\n",
       "      <th>Phenols</th>\n",
       "      <th>Flavanoids</th>\n",
       "      <th>Nonflavanoids</th>\n",
       "      <th>Proanthocyanins</th>\n",
       "      <th>Color</th>\n",
       "      <th>Hue</th>\n",
       "      <th>Dilution</th>\n",
       "      <th>Proline</th>\n",
       "    </tr>\n",
       "  </thead>\n",
       "  <tbody>\n",
       "    <tr>\n",
       "      <th>count</th>\n",
       "      <td>178.000000</td>\n",
       "      <td>178.000000</td>\n",
       "      <td>178.000000</td>\n",
       "      <td>178.000000</td>\n",
       "      <td>178.000000</td>\n",
       "      <td>178.000000</td>\n",
       "      <td>178.000000</td>\n",
       "      <td>178.000000</td>\n",
       "      <td>178.000000</td>\n",
       "      <td>178.000000</td>\n",
       "      <td>178.000000</td>\n",
       "      <td>178.000000</td>\n",
       "      <td>178.000000</td>\n",
       "      <td>178.000000</td>\n",
       "    </tr>\n",
       "    <tr>\n",
       "      <th>mean</th>\n",
       "      <td>1.938202</td>\n",
       "      <td>13.000618</td>\n",
       "      <td>2.336348</td>\n",
       "      <td>2.366517</td>\n",
       "      <td>19.494944</td>\n",
       "      <td>99.741573</td>\n",
       "      <td>2.295112</td>\n",
       "      <td>2.029270</td>\n",
       "      <td>0.361854</td>\n",
       "      <td>1.590899</td>\n",
       "      <td>5.058090</td>\n",
       "      <td>0.957449</td>\n",
       "      <td>2.611685</td>\n",
       "      <td>746.893258</td>\n",
       "    </tr>\n",
       "    <tr>\n",
       "      <th>std</th>\n",
       "      <td>0.775035</td>\n",
       "      <td>0.811827</td>\n",
       "      <td>1.117146</td>\n",
       "      <td>0.274344</td>\n",
       "      <td>3.339564</td>\n",
       "      <td>14.282484</td>\n",
       "      <td>0.625851</td>\n",
       "      <td>0.998859</td>\n",
       "      <td>0.124453</td>\n",
       "      <td>0.572359</td>\n",
       "      <td>2.318286</td>\n",
       "      <td>0.228572</td>\n",
       "      <td>0.709990</td>\n",
       "      <td>314.907474</td>\n",
       "    </tr>\n",
       "    <tr>\n",
       "      <th>min</th>\n",
       "      <td>1.000000</td>\n",
       "      <td>11.030000</td>\n",
       "      <td>0.740000</td>\n",
       "      <td>1.360000</td>\n",
       "      <td>10.600000</td>\n",
       "      <td>70.000000</td>\n",
       "      <td>0.980000</td>\n",
       "      <td>0.340000</td>\n",
       "      <td>0.130000</td>\n",
       "      <td>0.410000</td>\n",
       "      <td>1.280000</td>\n",
       "      <td>0.480000</td>\n",
       "      <td>1.270000</td>\n",
       "      <td>278.000000</td>\n",
       "    </tr>\n",
       "    <tr>\n",
       "      <th>25%</th>\n",
       "      <td>1.000000</td>\n",
       "      <td>12.362500</td>\n",
       "      <td>1.602500</td>\n",
       "      <td>2.210000</td>\n",
       "      <td>17.200000</td>\n",
       "      <td>88.000000</td>\n",
       "      <td>1.742500</td>\n",
       "      <td>1.205000</td>\n",
       "      <td>0.270000</td>\n",
       "      <td>1.250000</td>\n",
       "      <td>3.220000</td>\n",
       "      <td>0.782500</td>\n",
       "      <td>1.937500</td>\n",
       "      <td>500.500000</td>\n",
       "    </tr>\n",
       "    <tr>\n",
       "      <th>50%</th>\n",
       "      <td>2.000000</td>\n",
       "      <td>13.050000</td>\n",
       "      <td>1.865000</td>\n",
       "      <td>2.360000</td>\n",
       "      <td>19.500000</td>\n",
       "      <td>98.000000</td>\n",
       "      <td>2.355000</td>\n",
       "      <td>2.135000</td>\n",
       "      <td>0.340000</td>\n",
       "      <td>1.555000</td>\n",
       "      <td>4.690000</td>\n",
       "      <td>0.965000</td>\n",
       "      <td>2.780000</td>\n",
       "      <td>673.500000</td>\n",
       "    </tr>\n",
       "    <tr>\n",
       "      <th>75%</th>\n",
       "      <td>3.000000</td>\n",
       "      <td>13.677500</td>\n",
       "      <td>3.082500</td>\n",
       "      <td>2.557500</td>\n",
       "      <td>21.500000</td>\n",
       "      <td>107.000000</td>\n",
       "      <td>2.800000</td>\n",
       "      <td>2.875000</td>\n",
       "      <td>0.437500</td>\n",
       "      <td>1.950000</td>\n",
       "      <td>6.200000</td>\n",
       "      <td>1.120000</td>\n",
       "      <td>3.170000</td>\n",
       "      <td>985.000000</td>\n",
       "    </tr>\n",
       "    <tr>\n",
       "      <th>max</th>\n",
       "      <td>3.000000</td>\n",
       "      <td>14.830000</td>\n",
       "      <td>5.800000</td>\n",
       "      <td>3.230000</td>\n",
       "      <td>30.000000</td>\n",
       "      <td>162.000000</td>\n",
       "      <td>3.880000</td>\n",
       "      <td>5.080000</td>\n",
       "      <td>0.660000</td>\n",
       "      <td>3.580000</td>\n",
       "      <td>13.000000</td>\n",
       "      <td>1.710000</td>\n",
       "      <td>4.000000</td>\n",
       "      <td>1680.000000</td>\n",
       "    </tr>\n",
       "  </tbody>\n",
       "</table>\n",
       "</div>"
      ],
      "text/plain": [
       "             Type     Alcohol       Malic         Ash  Alcalinity   Magnesium  \\\n",
       "count  178.000000  178.000000  178.000000  178.000000  178.000000  178.000000   \n",
       "mean     1.938202   13.000618    2.336348    2.366517   19.494944   99.741573   \n",
       "std      0.775035    0.811827    1.117146    0.274344    3.339564   14.282484   \n",
       "min      1.000000   11.030000    0.740000    1.360000   10.600000   70.000000   \n",
       "25%      1.000000   12.362500    1.602500    2.210000   17.200000   88.000000   \n",
       "50%      2.000000   13.050000    1.865000    2.360000   19.500000   98.000000   \n",
       "75%      3.000000   13.677500    3.082500    2.557500   21.500000  107.000000   \n",
       "max      3.000000   14.830000    5.800000    3.230000   30.000000  162.000000   \n",
       "\n",
       "          Phenols  Flavanoids  Nonflavanoids  Proanthocyanins       Color  \\\n",
       "count  178.000000  178.000000     178.000000       178.000000  178.000000   \n",
       "mean     2.295112    2.029270       0.361854         1.590899    5.058090   \n",
       "std      0.625851    0.998859       0.124453         0.572359    2.318286   \n",
       "min      0.980000    0.340000       0.130000         0.410000    1.280000   \n",
       "25%      1.742500    1.205000       0.270000         1.250000    3.220000   \n",
       "50%      2.355000    2.135000       0.340000         1.555000    4.690000   \n",
       "75%      2.800000    2.875000       0.437500         1.950000    6.200000   \n",
       "max      3.880000    5.080000       0.660000         3.580000   13.000000   \n",
       "\n",
       "              Hue    Dilution      Proline  \n",
       "count  178.000000  178.000000   178.000000  \n",
       "mean     0.957449    2.611685   746.893258  \n",
       "std      0.228572    0.709990   314.907474  \n",
       "min      0.480000    1.270000   278.000000  \n",
       "25%      0.782500    1.937500   500.500000  \n",
       "50%      0.965000    2.780000   673.500000  \n",
       "75%      1.120000    3.170000   985.000000  \n",
       "max      1.710000    4.000000  1680.000000  "
      ]
     },
     "execution_count": 6,
     "metadata": {},
     "output_type": "execute_result"
    }
   ],
   "source": [
    "df.describe()"
   ]
  },
  {
   "cell_type": "code",
   "execution_count": 7,
   "id": "829fae54",
   "metadata": {
    "execution": {
     "iopub.execute_input": "2022-01-01T13:49:41.093240Z",
     "iopub.status.busy": "2022-01-01T13:49:41.092505Z",
     "iopub.status.idle": "2022-01-01T13:49:41.107843Z",
     "shell.execute_reply": "2022-01-01T13:49:41.107237Z",
     "shell.execute_reply.started": "2022-01-01T13:39:59.697014Z"
    },
    "papermill": {
     "duration": 0.040499,
     "end_time": "2022-01-01T13:49:41.107998",
     "exception": false,
     "start_time": "2022-01-01T13:49:41.067499",
     "status": "completed"
    },
    "tags": []
   },
   "outputs": [
    {
     "name": "stdout",
     "output_type": "stream",
     "text": [
      "<class 'pandas.core.frame.DataFrame'>\n",
      "RangeIndex: 178 entries, 0 to 177\n",
      "Data columns (total 14 columns):\n",
      " #   Column           Non-Null Count  Dtype  \n",
      "---  ------           --------------  -----  \n",
      " 0   Type             178 non-null    int64  \n",
      " 1   Alcohol          178 non-null    float64\n",
      " 2   Malic            178 non-null    float64\n",
      " 3   Ash              178 non-null    float64\n",
      " 4   Alcalinity       178 non-null    float64\n",
      " 5   Magnesium        178 non-null    int64  \n",
      " 6   Phenols          178 non-null    float64\n",
      " 7   Flavanoids       178 non-null    float64\n",
      " 8   Nonflavanoids    178 non-null    float64\n",
      " 9   Proanthocyanins  178 non-null    float64\n",
      " 10  Color            178 non-null    float64\n",
      " 11  Hue              178 non-null    float64\n",
      " 12  Dilution         178 non-null    float64\n",
      " 13  Proline          178 non-null    int64  \n",
      "dtypes: float64(11), int64(3)\n",
      "memory usage: 19.6 KB\n"
     ]
    }
   ],
   "source": [
    "df.info()"
   ]
  },
  {
   "cell_type": "code",
   "execution_count": 8,
   "id": "0cded963",
   "metadata": {
    "execution": {
     "iopub.execute_input": "2022-01-01T13:49:41.150580Z",
     "iopub.status.busy": "2022-01-01T13:49:41.149927Z",
     "iopub.status.idle": "2022-01-01T13:49:41.566428Z",
     "shell.execute_reply": "2022-01-01T13:49:41.565785Z",
     "shell.execute_reply.started": "2022-01-01T13:40:01.456089Z"
    },
    "papermill": {
     "duration": 0.438953,
     "end_time": "2022-01-01T13:49:41.566585",
     "exception": false,
     "start_time": "2022-01-01T13:49:41.127632",
     "status": "completed"
    },
    "tags": []
   },
   "outputs": [
    {
     "data": {
      "image/png": "[encoded data removed]",
      "text/plain": [
       "<Figure size 2000x1000 with 1 Axes>"
      ]
     },
     "metadata": {},
     "output_type": "display_data"
    }
   ],
   "source": [
    "ls_features = list(df.keys())\n",
    "\n",
    "plt.figure(figsize=(20, 10))\n",
    "plt.title('Boxplot with features')\n",
    "plt.boxplot(df.values, 0, 'rD', labels = ls_features)\n",
    "plt.xticks(rotation = 90)\n",
    "\n",
    "plt.show()"
   ]
  },
  {
   "cell_type": "code",
   "execution_count": 9,
   "id": "7370f289",
   "metadata": {
    "execution": {
     "iopub.execute_input": "2022-01-01T13:49:41.616030Z",
     "iopub.status.busy": "2022-01-01T13:49:41.615300Z",
     "iopub.status.idle": "2022-01-01T13:49:41.619531Z",
     "shell.execute_reply": "2022-01-01T13:49:41.620073Z",
     "shell.execute_reply.started": "2022-01-01T13:44:55.681900Z"
    },
    "papermill": {
     "duration": 0.032067,
     "end_time": "2022-01-01T13:49:41.620255",
     "exception": false,
     "start_time": "2022-01-01T13:49:41.588188",
     "status": "completed"
    },
    "tags": []
   },
   "outputs": [],
   "source": [
    "sc = StandardScaler()\n",
    "df_scaled = sc.fit_transform(df)"
   ]
  },
  {
   "cell_type": "code",
   "execution_count": 10,
   "id": "761ef2ff",
   "metadata": {
    "execution": {
     "iopub.execute_input": "2022-01-01T13:49:41.666498Z",
     "iopub.status.busy": "2022-01-01T13:49:41.665708Z",
     "iopub.status.idle": "2022-01-01T13:49:41.885477Z",
     "shell.execute_reply": "2022-01-01T13:49:41.884874Z",
     "shell.execute_reply.started": "2022-01-01T13:44:56.845758Z"
    },
    "papermill": {
     "duration": 0.244003,
     "end_time": "2022-01-01T13:49:41.885669",
     "exception": false,
     "start_time": "2022-01-01T13:49:41.641666",
     "status": "completed"
    },
    "tags": []
   },
   "outputs": [
    {
     "name": "stderr",
     "output_type": "stream",
     "text": [
      "c:\\Users\\chand\\anaconda3\\lib\\site-packages\\sklearn\\cluster\\_kmeans.py:1412: FutureWarning: The default value of `n_init` will change from 10 to 'auto' in 1.4. Set the value of `n_init` explicitly to suppress the warning\n",
      "  super()._check_params_vs_input(X, default_n_init=10)\n",
      "c:\\Users\\chand\\anaconda3\\lib\\site-packages\\sklearn\\cluster\\_kmeans.py:1436: UserWarning: KMeans is known to have a memory leak on Windows with MKL, when there are less chunks than available threads. You can avoid it by setting the environment variable OMP_NUM_THREADS=1.\n",
      "  warnings.warn(\n"
     ]
    }
   ],
   "source": [
    "kmeans = KMeans(n_clusters = 50)\n",
    "kmeans.fit(df_scaled)\n",
    "\n",
    "centroids = kmeans.cluster_centers_\n",
    "labels_kmeans = kmeans.labels_"
   ]
  },
  {
   "cell_type": "code",
   "execution_count": 11,
   "id": "3f091a5f",
   "metadata": {
    "execution": {
     "iopub.execute_input": "2022-01-01T13:49:41.953862Z",
     "iopub.status.busy": "2022-01-01T13:49:41.953101Z",
     "iopub.status.idle": "2022-01-01T13:49:43.063612Z",
     "shell.execute_reply": "2022-01-01T13:49:43.062958Z",
     "shell.execute_reply.started": "2022-01-01T13:46:40.542426Z"
    },
    "papermill": {
     "duration": 1.156358,
     "end_time": "2022-01-01T13:49:43.063780",
     "exception": false,
     "start_time": "2022-01-01T13:49:41.907422",
     "status": "completed"
    },
    "tags": []
   },
   "outputs": [
    {
     "data": {
      "image/png": "[encoded data removed]",
      "text/plain": [
       "<Figure size 2000x1000 with 1 Axes>"
      ]
     },
     "metadata": {},
     "output_type": "display_data"
    }
   ],
   "source": [
    "plt.figure(figsize=(20,10))\n",
    "\n",
    "plt.title('Dendogram Kmeans')\n",
    "Z = linkage(centroids, method = 'ward', metric = 'euclidean')\n",
    "dendrogram(Z, leaf_rotation = 90., color_threshold = 12);\n",
    "plt.show()"
   ]
  },
  {
   "cell_type": "code",
   "execution_count": 12,
   "id": "7ebf5f10",
   "metadata": {
    "execution": {
     "iopub.execute_input": "2022-01-01T13:49:43.112520Z",
     "iopub.status.busy": "2022-01-01T13:49:43.111467Z",
     "iopub.status.idle": "2022-01-01T13:49:43.116686Z",
     "shell.execute_reply": "2022-01-01T13:49:43.117203Z",
     "shell.execute_reply.started": "2022-01-01T13:45:21.289555Z"
    },
    "papermill": {
     "duration": 0.031024,
     "end_time": "2022-01-01T13:49:43.117383",
     "exception": false,
     "start_time": "2022-01-01T13:49:43.086359",
     "status": "completed"
    },
    "tags": []
   },
   "outputs": [],
   "source": [
    "cluster = AgglomerativeClustering(n_clusters = 3)\n",
    "\n",
    "cluster.fit(centroids)\n",
    "\n",
    "labels_cluster = cluster.labels_"
   ]
  },
  {
   "cell_type": "code",
   "execution_count": 13,
   "id": "5770b8a2",
   "metadata": {
    "execution": {
     "iopub.execute_input": "2022-01-01T13:49:43.164402Z",
     "iopub.status.busy": "2022-01-01T13:49:43.163379Z",
     "iopub.status.idle": "2022-01-01T13:49:43.167500Z",
     "shell.execute_reply": "2022-01-01T13:49:43.168033Z",
     "shell.execute_reply.started": "2022-01-01T13:45:25.223433Z"
    },
    "papermill": {
     "duration": 0.029408,
     "end_time": "2022-01-01T13:49:43.168231",
     "exception": false,
     "start_time": "2022-01-01T13:49:43.138823",
     "status": "completed"
    },
    "tags": []
   },
   "outputs": [],
   "source": [
    "df_norm = pd.DataFrame(df_scaled)"
   ]
  },
  {
   "cell_type": "code",
   "execution_count": 14,
   "id": "5f7850fa",
   "metadata": {
    "execution": {
     "iopub.execute_input": "2022-01-01T13:49:43.216399Z",
     "iopub.status.busy": "2022-01-01T13:49:43.215365Z",
     "iopub.status.idle": "2022-01-01T13:49:43.233216Z",
     "shell.execute_reply": "2022-01-01T13:49:43.233713Z",
     "shell.execute_reply.started": "2022-01-01T13:45:27.181520Z"
    },
    "papermill": {
     "duration": 0.043323,
     "end_time": "2022-01-01T13:49:43.233924",
     "exception": false,
     "start_time": "2022-01-01T13:49:43.190601",
     "status": "completed"
    },
    "tags": []
   },
   "outputs": [],
   "source": [
    "for i in range(50):\n",
    "    df_norm.loc[labels_kmeans==i, 'cluster'] = labels_cluster[i]"
   ]
  },
  {
   "cell_type": "code",
   "execution_count": 15,
   "id": "e576c921",
   "metadata": {
    "execution": {
     "iopub.execute_input": "2022-01-01T13:49:43.286463Z",
     "iopub.status.busy": "2022-01-01T13:49:43.284095Z",
     "iopub.status.idle": "2022-01-01T13:49:43.292520Z",
     "shell.execute_reply": "2022-01-01T13:49:43.293088Z",
     "shell.execute_reply.started": "2022-01-01T13:45:29.102952Z"
    },
    "papermill": {
     "duration": 0.037208,
     "end_time": "2022-01-01T13:49:43.293266",
     "exception": false,
     "start_time": "2022-01-01T13:49:43.256058",
     "status": "completed"
    },
    "tags": []
   },
   "outputs": [],
   "source": [
    "new_centroids = df_norm.groupby(by='cluster').mean()"
   ]
  },
  {
   "cell_type": "code",
   "execution_count": 16,
   "id": "9ca75aab",
   "metadata": {
    "execution": {
     "iopub.execute_input": "2022-01-01T13:49:43.356134Z",
     "iopub.status.busy": "2022-01-01T13:49:43.353903Z",
     "iopub.status.idle": "2022-01-01T13:49:43.359328Z",
     "shell.execute_reply": "2022-01-01T13:49:43.359964Z",
     "shell.execute_reply.started": "2022-01-01T13:45:30.086490Z"
    },
    "papermill": {
     "duration": 0.043892,
     "end_time": "2022-01-01T13:49:43.360137",
     "exception": false,
     "start_time": "2022-01-01T13:49:43.316245",
     "status": "completed"
    },
    "tags": []
   },
   "outputs": [
    {
     "data": {
      "text/html": [
       "<div>\n",
       "<style scoped>\n",
       "    .dataframe tbody tr th:only-of-type {\n",
       "        vertical-align: middle;\n",
       "    }\n",
       "\n",
       "    .dataframe tbody tr th {\n",
       "        vertical-align: top;\n",
       "    }\n",
       "\n",
       "    .dataframe thead th {\n",
       "        text-align: right;\n",
       "    }\n",
       "</style>\n",
       "<table border=\"1\" class=\"dataframe\">\n",
       "  <thead>\n",
       "    <tr style=\"text-align: right;\">\n",
       "      <th></th>\n",
       "      <th>0</th>\n",
       "      <th>1</th>\n",
       "      <th>2</th>\n",
       "      <th>3</th>\n",
       "      <th>4</th>\n",
       "      <th>5</th>\n",
       "      <th>6</th>\n",
       "      <th>7</th>\n",
       "      <th>8</th>\n",
       "      <th>9</th>\n",
       "      <th>10</th>\n",
       "      <th>11</th>\n",
       "      <th>12</th>\n",
       "      <th>13</th>\n",
       "    </tr>\n",
       "    <tr>\n",
       "      <th>cluster</th>\n",
       "      <th></th>\n",
       "      <th></th>\n",
       "      <th></th>\n",
       "      <th></th>\n",
       "      <th></th>\n",
       "      <th></th>\n",
       "      <th></th>\n",
       "      <th></th>\n",
       "      <th></th>\n",
       "      <th></th>\n",
       "      <th></th>\n",
       "      <th></th>\n",
       "      <th></th>\n",
       "      <th></th>\n",
       "    </tr>\n",
       "  </thead>\n",
       "  <tbody>\n",
       "    <tr>\n",
       "      <th>0.0</th>\n",
       "      <td>-1.076711</td>\n",
       "      <td>0.751064</td>\n",
       "      <td>-0.333482</td>\n",
       "      <td>0.322882</td>\n",
       "      <td>-0.572663</td>\n",
       "      <td>0.657512</td>\n",
       "      <td>0.810211</td>\n",
       "      <td>0.901261</td>\n",
       "      <td>-0.602182</td>\n",
       "      <td>0.606876</td>\n",
       "      <td>0.107592</td>\n",
       "      <td>0.499780</td>\n",
       "      <td>0.739580</td>\n",
       "      <td>1.033612</td>\n",
       "    </tr>\n",
       "    <tr>\n",
       "      <th>1.0</th>\n",
       "      <td>1.373864</td>\n",
       "      <td>0.189159</td>\n",
       "      <td>0.895331</td>\n",
       "      <td>0.257945</td>\n",
       "      <td>0.577065</td>\n",
       "      <td>-0.030127</td>\n",
       "      <td>-0.987617</td>\n",
       "      <td>-1.252761</td>\n",
       "      <td>0.690119</td>\n",
       "      <td>-0.766287</td>\n",
       "      <td>1.011418</td>\n",
       "      <td>-1.205382</td>\n",
       "      <td>-1.310950</td>\n",
       "      <td>-0.372578</td>\n",
       "    </tr>\n",
       "    <tr>\n",
       "      <th>2.0</th>\n",
       "      <td>0.079960</td>\n",
       "      <td>-0.916404</td>\n",
       "      <td>-0.327595</td>\n",
       "      <td>-0.526431</td>\n",
       "      <td>0.157760</td>\n",
       "      <td>-0.655464</td>\n",
       "      <td>-0.094818</td>\n",
       "      <td>0.010145</td>\n",
       "      <td>0.103410</td>\n",
       "      <td>-0.051126</td>\n",
       "      <td>-0.869518</td>\n",
       "      <td>0.388638</td>\n",
       "      <td>0.220521</td>\n",
       "      <td>-0.786479</td>\n",
       "    </tr>\n",
       "  </tbody>\n",
       "</table>\n",
       "</div>"
      ],
      "text/plain": [
       "                0         1         2         3         4         5         6  \\\n",
       "cluster                                                                         \n",
       "0.0     -1.076711  0.751064 -0.333482  0.322882 -0.572663  0.657512  0.810211   \n",
       "1.0      1.373864  0.189159  0.895331  0.257945  0.577065 -0.030127 -0.987617   \n",
       "2.0      0.079960 -0.916404 -0.327595 -0.526431  0.157760 -0.655464 -0.094818   \n",
       "\n",
       "                7         8         9        10        11        12        13  \n",
       "cluster                                                                        \n",
       "0.0      0.901261 -0.602182  0.606876  0.107592  0.499780  0.739580  1.033612  \n",
       "1.0     -1.252761  0.690119 -0.766287  1.011418 -1.205382 -1.310950 -0.372578  \n",
       "2.0      0.010145  0.103410 -0.051126 -0.869518  0.388638  0.220521 -0.786479  "
      ]
     },
     "execution_count": 16,
     "metadata": {},
     "output_type": "execute_result"
    }
   ],
   "source": [
    "new_centroids"
   ]
  },
  {
   "cell_type": "code",
   "execution_count": 17,
   "id": "b7423af0",
   "metadata": {
    "execution": {
     "iopub.execute_input": "2022-01-01T13:49:43.409009Z",
     "iopub.status.busy": "2022-01-01T13:49:43.407957Z",
     "iopub.status.idle": "2022-01-01T13:49:43.424566Z",
     "shell.execute_reply": "2022-01-01T13:49:43.425150Z",
     "shell.execute_reply.started": "2022-01-01T13:45:31.621290Z"
    },
    "papermill": {
     "duration": 0.042609,
     "end_time": "2022-01-01T13:49:43.425327",
     "exception": false,
     "start_time": "2022-01-01T13:49:43.382718",
     "status": "completed"
    },
    "tags": []
   },
   "outputs": [
    {
     "name": "stderr",
     "output_type": "stream",
     "text": [
      "c:\\Users\\chand\\anaconda3\\lib\\site-packages\\sklearn\\cluster\\_kmeans.py:1412: FutureWarning: The default value of `n_init` will change from 10 to 'auto' in 1.4. Set the value of `n_init` explicitly to suppress the warning\n",
      "  super()._check_params_vs_input(X, default_n_init=10)\n",
      "c:\\Users\\chand\\anaconda3\\lib\\site-packages\\sklearn\\cluster\\_kmeans.py:1412: RuntimeWarning: Explicit initial center position passed: performing only one init in KMeans instead of n_init=10.\n",
      "  super()._check_params_vs_input(X, default_n_init=10)\n",
      "c:\\Users\\chand\\anaconda3\\lib\\site-packages\\sklearn\\cluster\\_kmeans.py:1436: UserWarning: KMeans is known to have a memory leak on Windows with MKL, when there are less chunks than available threads. You can avoid it by setting the environment variable OMP_NUM_THREADS=1.\n",
      "  warnings.warn(\n"
     ]
    }
   ],
   "source": [
    "kmeans2 = KMeans(n_clusters = 3, init = new_centroids)\n",
    "kmeans2_pred = kmeans2.fit_predict(df_norm.drop(\"cluster\",axis=1))\n",
    "\n",
    "centroids2 = kmeans2.cluster_centers_\n",
    "labels2 = kmeans2.labels_"
   ]
  },
  {
   "cell_type": "code",
   "execution_count": 18,
   "id": "42febc34",
   "metadata": {
    "execution": {
     "iopub.execute_input": "2022-01-01T13:49:43.474730Z",
     "iopub.status.busy": "2022-01-01T13:49:43.473737Z",
     "iopub.status.idle": "2022-01-01T13:49:43.483509Z",
     "shell.execute_reply": "2022-01-01T13:49:43.483995Z",
     "shell.execute_reply.started": "2022-01-01T13:45:33.052959Z"
    },
    "papermill": {
     "duration": 0.036261,
     "end_time": "2022-01-01T13:49:43.484179",
     "exception": false,
     "start_time": "2022-01-01T13:49:43.447918",
     "status": "completed"
    },
    "tags": []
   },
   "outputs": [
    {
     "data": {
      "text/html": [
       "<div>\n",
       "<style scoped>\n",
       "    .dataframe tbody tr th:only-of-type {\n",
       "        vertical-align: middle;\n",
       "    }\n",
       "\n",
       "    .dataframe tbody tr th {\n",
       "        vertical-align: top;\n",
       "    }\n",
       "\n",
       "    .dataframe thead th {\n",
       "        text-align: right;\n",
       "    }\n",
       "</style>\n",
       "<table border=\"1\" class=\"dataframe\">\n",
       "  <thead>\n",
       "    <tr style=\"text-align: right;\">\n",
       "      <th></th>\n",
       "      <th>Labels</th>\n",
       "    </tr>\n",
       "  </thead>\n",
       "  <tbody>\n",
       "    <tr>\n",
       "      <th>0</th>\n",
       "      <td>0</td>\n",
       "    </tr>\n",
       "    <tr>\n",
       "      <th>1</th>\n",
       "      <td>0</td>\n",
       "    </tr>\n",
       "    <tr>\n",
       "      <th>2</th>\n",
       "      <td>0</td>\n",
       "    </tr>\n",
       "    <tr>\n",
       "      <th>3</th>\n",
       "      <td>0</td>\n",
       "    </tr>\n",
       "    <tr>\n",
       "      <th>4</th>\n",
       "      <td>0</td>\n",
       "    </tr>\n",
       "  </tbody>\n",
       "</table>\n",
       "</div>"
      ],
      "text/plain": [
       "   Labels\n",
       "0       0\n",
       "1       0\n",
       "2       0\n",
       "3       0\n",
       "4       0"
      ]
     },
     "execution_count": 18,
     "metadata": {},
     "output_type": "execute_result"
    }
   ],
   "source": [
    "kmeans2_pred = pd.DataFrame(kmeans2_pred)\n",
    "kmeans2_pred= kmeans2_pred.rename(columns = {0: 'Labels'})\n",
    "kmeans2_pred.head()"
   ]
  },
  {
   "cell_type": "code",
   "execution_count": null,
   "id": "a821fe46",
   "metadata": {
    "execution": {
     "iopub.execute_input": "2022-01-01T13:49:43.549608Z",
     "iopub.status.busy": "2022-01-01T13:49:43.545929Z",
     "iopub.status.idle": "2022-01-01T13:49:43.558855Z",
     "shell.execute_reply": "2022-01-01T13:49:43.559344Z",
     "shell.execute_reply.started": "2022-01-01T13:45:34.388134Z"
    },
    "papermill": {
     "duration": 0.052343,
     "end_time": "2022-01-01T13:49:43.559526",
     "exception": false,
     "start_time": "2022-01-01T13:49:43.507183",
     "status": "completed"
    },
    "tags": []
   },
   "outputs": [],
   "source": [
    "from sklearn.decomposition import PCA\n",
    "\n",
    "pca = PCA(n_components = 2)\n",
    "data_2D = pca.fit_transform(df_norm)\n",
    "pca_final = pd.DataFrame(data_2D, columns=['X', 'Y'])\n",
    "df_norm = pd.DataFrame(df_norm, columns=df_norm.columns.astype(str))\n",
    "df_norm = df_norm.reset_index(drop=True)\n",
    "pca_final.head()"
   ]
  },
  {
   "cell_type": "code",
   "execution_count": 19,
   "id": "4d77acba",
   "metadata": {
    "execution": {
     "iopub.execute_input": "2022-01-01T13:49:43.618955Z",
     "iopub.status.busy": "2022-01-01T13:49:43.611009Z",
     "iopub.status.idle": "2022-01-01T13:49:43.621822Z",
     "shell.execute_reply": "2022-01-01T13:49:43.622448Z",
     "shell.execute_reply.started": "2022-01-01T13:45:35.570987Z"
    },
    "papermill": {
     "duration": 0.038773,
     "end_time": "2022-01-01T13:49:43.622622",
     "exception": false,
     "start_time": "2022-01-01T13:49:43.583849",
     "status": "completed"
    },
    "tags": []
   },
   "outputs": [
    {
     "data": {
      "text/html": [
       "<div>\n",
       "<style scoped>\n",
       "    .dataframe tbody tr th:only-of-type {\n",
       "        vertical-align: middle;\n",
       "    }\n",
       "\n",
       "    .dataframe tbody tr th {\n",
       "        vertical-align: top;\n",
       "    }\n",
       "\n",
       "    .dataframe thead th {\n",
       "        text-align: right;\n",
       "    }\n",
       "</style>\n",
       "<table border=\"1\" class=\"dataframe\">\n",
       "  <thead>\n",
       "    <tr style=\"text-align: right;\">\n",
       "      <th></th>\n",
       "      <th>X</th>\n",
       "      <th>Y</th>\n",
       "      <th>Labels</th>\n",
       "    </tr>\n",
       "  </thead>\n",
       "  <tbody>\n",
       "    <tr>\n",
       "      <th>0</th>\n",
       "      <td>-3.438572</td>\n",
       "      <td>-1.445969</td>\n",
       "      <td>0</td>\n",
       "    </tr>\n",
       "    <tr>\n",
       "      <th>1</th>\n",
       "      <td>-2.383843</td>\n",
       "      <td>0.332028</td>\n",
       "      <td>0</td>\n",
       "    </tr>\n",
       "    <tr>\n",
       "      <th>2</th>\n",
       "      <td>-2.686754</td>\n",
       "      <td>-1.032594</td>\n",
       "      <td>0</td>\n",
       "    </tr>\n",
       "    <tr>\n",
       "      <th>3</th>\n",
       "      <td>-3.843105</td>\n",
       "      <td>-2.759543</td>\n",
       "      <td>0</td>\n",
       "    </tr>\n",
       "    <tr>\n",
       "      <th>4</th>\n",
       "      <td>-1.277939</td>\n",
       "      <td>-0.869188</td>\n",
       "      <td>0</td>\n",
       "    </tr>\n",
       "  </tbody>\n",
       "</table>\n",
       "</div>"
      ],
      "text/plain": [
       "          X         Y  Labels\n",
       "0 -3.438572 -1.445969       0\n",
       "1 -2.383843  0.332028       0\n",
       "2 -2.686754 -1.032594       0\n",
       "3 -3.843105 -2.759543       0\n",
       "4 -1.277939 -0.869188       0"
      ]
     },
     "execution_count": 19,
     "metadata": {},
     "output_type": "execute_result"
    }
   ],
   "source": [
    "df_pred = [pca_final, kmeans2_pred]\n",
    "final_df = pd.concat(df_pred, axis=1)\n",
    "final_df.head()"
   ]
  },
  {
   "cell_type": "code",
   "execution_count": 20,
   "id": "7db1d361",
   "metadata": {
    "execution": {
     "iopub.execute_input": "2022-01-01T13:49:43.680276Z",
     "iopub.status.busy": "2022-01-01T13:49:43.679540Z",
     "iopub.status.idle": "2022-01-01T13:49:44.036962Z",
     "shell.execute_reply": "2022-01-01T13:49:44.037519Z",
     "shell.execute_reply.started": "2022-01-01T13:45:36.959214Z"
    },
    "papermill": {
     "duration": 0.390017,
     "end_time": "2022-01-01T13:49:44.037695",
     "exception": false,
     "start_time": "2022-01-01T13:49:43.647678",
     "status": "completed"
    },
    "tags": []
   },
   "outputs": [
    {
     "data": {
      "image/png": "[encoded data removed]",
      "text/plain": [
       "<Figure size 576x576 with 1 Axes>"
      ]
     },
     "metadata": {
      "needs_background": "light"
     },
     "output_type": "display_data"
    }
   ],
   "source": [
    "plt.figure(figsize=(8, 8))\n",
    "sns.scatterplot(x='X', y='Y', hue='Labels', data=final_df);"
   ]
  },
  {
   "cell_type": "code",
   "execution_count": null,
   "id": "e1f5b0ab",
   "metadata": {
    "papermill": {
     "duration": 0.025588,
     "end_time": "2022-01-01T13:49:44.090175",
     "exception": false,
     "start_time": "2022-01-01T13:49:44.064587",
     "status": "completed"
    },
    "tags": []
   },
   "outputs": [],
   "source": []
  }
 ],
 "metadata": {
  "kernelspec": {
   "display_name": "Python 3",
   "language": "python",
   "name": "python3"
  },
  "language_info": {
   "codemirror_mode": {
    "name": "ipython",
    "version": 3
   },
   "file_extension": ".py",
   "mimetype": "text/x-python",
   "name": "python",
   "nbconvert_exporter": "python",
   "pygments_lexer": "ipython3",
   "version": "3.10.12"
  },
  "papermill": {
   "default_parameters": {},
   "duration": 16.857324,
   "end_time": "2022-01-01T13:49:44.927223",
   "environment_variables": {},
   "exception": null,
   "input_path": "__notebook__.ipynb",
   "output_path": "__notebook__.ipynb",
   "parameters": {},
   "start_time": "2022-01-01T13:49:28.069899",
   "version": "2.3.3"
  }
 },
 "nbformat": 4,
 "nbformat_minor": 5
}
